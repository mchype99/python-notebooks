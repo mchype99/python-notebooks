{
  "cells": [
    {
      "cell_type": "markdown",
      "metadata": {
        "id": "view-in-github",
        "colab_type": "text"
      },
      "source": [
        "<a href=\"https://colab.research.google.com/github/mchype99/python-notebooks/blob/main/calculator-and-threshold-classifier.ipynb\" target=\"_parent\"><img src=\"https://colab.research.google.com/assets/colab-badge.svg\" alt=\"Open In Colab\"/></a>"
      ]
    },
    {
      "cell_type": "markdown",
      "metadata": {
        "id": "S5FF48J3Zam7"
      },
      "source": [
        "Assignment 1\n",
        "\n",
        "CAP 4613\n",
        "\n",
        "McKerlton Hyppolite\n",
        "\n",
        "Z23590874\n",
        "\n",
        "https://colab.research.google.com/drive/1AX_IABv_QCgRY7EpaD8LVoLLHeV0-zt7?usp=sharing"
      ]
    },
    {
      "cell_type": "markdown",
      "metadata": {
        "id": "oGVnb3zGTqVT"
      },
      "source": [
        "Problem 1) Simple Calculator"
      ]
    },
    {
      "cell_type": "code",
      "execution_count": null,
      "metadata": {
        "id": "07UT79VqZ4ux",
        "colab": {
          "base_uri": "https://localhost:8080/",
          "height": 983
        },
        "outputId": "7e2406c1-78fa-4ee3-ded9-c836f826df77"
      },
      "outputs": [
        {
          "name": "stdout",
          "output_type": "stream",
          "text": [
            "======================================================\n",
            "                  Simple Calculator\n",
            "======================================================\n",
            "Enter first number here: 12\n",
            "Enter the operation: [+, -, *, /, %, ^, exp, log, abs]\n",
            "+\n",
            "Enter second number: 14\n",
            "12.0  +  14.0  =  26.0\n",
            "Enter first number here: 12\n",
            "Enter the operation: [+, -, *, /, %, ^, exp, log, abs]\n",
            "-\n",
            "Enter second number: 5\n",
            "12.0  -  5.0  =  7.0\n",
            "Enter first number here: 15\n",
            "Enter the operation: [+, -, *, /, %, ^, exp, log, abs]\n",
            "*\n",
            "Enter second number: 2\n",
            "15.0  *  2.0  =  30.0\n",
            "Enter first number here: 16\n",
            "Enter the operation: [+, -, *, /, %, ^, exp, log, abs]\n",
            "/\n",
            "Enter second number: 4\n",
            "16.0  /  4.0  =  4.0\n",
            "Enter first number here: 16\n",
            "Enter the operation: [+, -, *, /, %, ^, exp, log, abs]\n",
            "%\n",
            "Enter second number: 5\n",
            "16.0  %  5.0  =  1.0\n",
            "Enter first number here: 2\n",
            "Enter the operation: [+, -, *, /, %, ^, exp, log, abs]\n",
            "^\n",
            "Enter second number: 5\n",
            "2.0  ^  5.0  =  32.0\n",
            "Enter first number here: 5\n",
            "Enter the operation: [+, -, *, /, %, ^, exp, log, abs]\n",
            "exp\n",
            "exp of 5.0 = 148.4131591025766\n",
            "Enter first number here: 5\n",
            "Enter the operation: [+, -, *, /, %, ^, exp, log, abs]\n",
            "log\n",
            "log of 5.0 = 1.6094379124341003\n",
            "Enter first number here: -5\n",
            "Enter the operation: [+, -, *, /, %, ^, exp, log, abs]\n",
            "abs\n",
            "abs of -5.0 = 5.0\n",
            "Enter first number here: x\n"
          ]
        },
        {
          "output_type": "error",
          "ename": "SystemExit",
          "evalue": "ignored",
          "traceback": [
            "An exception has occurred, use %tb to see the full traceback.\n",
            "\u001b[0;31mSystemExit\u001b[0m\u001b[0;31m:\u001b[0m ======================================================\n                  Calculator Closed\n======================================================\n"
          ]
        },
        {
          "output_type": "stream",
          "name": "stderr",
          "text": [
            "/usr/local/lib/python3.7/dist-packages/IPython/core/interactiveshell.py:2890: UserWarning: To exit: use 'exit', 'quit', or Ctrl-D.\n",
            "  warn(\"To exit: use 'exit', 'quit', or Ctrl-D.\", stacklevel=1)\n"
          ]
        }
      ],
      "source": [
        "from math import exp, log, fmod, pow, fabs\n",
        "import sys\n",
        "\n",
        "def summation(num1, num2):\n",
        "  return num1 + num2\n",
        "\n",
        "def subtraction(num1, num2):\n",
        "  return num1 - num2\n",
        "\n",
        "def multiply(num1, num2):\n",
        "  return num1 * num2\n",
        "\n",
        "def division(num1, num2):\n",
        "  return num1/num2\n",
        "\n",
        "def switch(operation, num1, num2):\n",
        "    dict={\n",
        "      '+': summation(num1, num2),\n",
        "      '-': subtraction(num1, num2),\n",
        "      '*': multiply(num1, num2),\n",
        "      '/': division(num1, num2),\n",
        "      '%': fmod(num1, num2),\n",
        "      '^': pow(num1, num2),\n",
        "      'exp': exp(num1),\n",
        "      'log': log(fabs(num1)),\n",
        "      'abs': fabs(num1),\n",
        "    }\n",
        "    return dict.get(operation, 'Invalid Operation. Try again!')\n",
        "\n",
        "#Main Program\n",
        "print('''======================================================\n",
        "                  Simple Calculator\n",
        "======================================================''')\n",
        "\n",
        "while True:\n",
        "  #Ask user for first number\n",
        "  num1 = (input('Enter first number here: '))\n",
        "  num2 = ''\n",
        "  \n",
        "  #If x is enter, calculator is closed\n",
        "  if num1 == 'x' or num1 == 'X':\n",
        "    sys.exit('''======================================================\n",
        "                  Calculator Closed\n",
        "======================================================''')\n",
        "  else:\n",
        "    num1 = float(num1)\n",
        "  \n",
        "  #Ask user for operation\n",
        "  print('Enter the operation: [+, -, *, /, %, ^, exp, log, abs]')\n",
        "  operation = input('')\n",
        "  #If operation requires second number, ask user for second number\n",
        "  if operation == '+' or operation == '-' or operation == '*' or operation == '/' or operation == '%' or operation == '^':\n",
        "    num2 = (input('Enter second number: '))\n",
        "    if num2 == 'x' or num2 == 'X':\n",
        "      sys.exit('''======================================================\n",
        "                  Calculator Closed\n",
        "======================================================''')\n",
        "    else:\n",
        "      num2 = float(num2)\n",
        "  elif operation == 'x' or operation == 'X':\n",
        "    sys.exit('''======================================================\n",
        "                  Calculator Closed\n",
        "======================================================''')\n",
        "  else:\n",
        "    num2 = 1.0\n",
        "  #If operation enter is invalid, return to top of loop\n",
        "  if switch(operation, num1, num2) == 'Invalid Operation. Try again!':\n",
        "    print(switch(operation, num1, num2))\n",
        "    continue\n",
        "  else:\n",
        "    if operation == 'exp' or operation == 'abs':\n",
        "      print(operation, 'of', num1, '=', switch(operation, num1, num2))\n",
        "    elif operation == 'log' and num1 > 0:\n",
        "      print(operation, 'of', fabs(num1), '=', switch(operation, num1, num2))\n",
        "    elif operation == 'log' and num1 <= 0:\n",
        "      print('Number must be greater than 0 to perform log.')\n",
        "    else:\n",
        "      print(num1, '', operation, '', num2, ' = ', switch(operation, num1, num2))"
      ]
    },
    {
      "cell_type": "markdown",
      "metadata": {
        "id": "Xv8h1NDtTzAA"
      },
      "source": [
        "*Problem* 2) Threshold-based Classifier"
      ]
    },
    {
      "cell_type": "code",
      "execution_count": null,
      "metadata": {
        "colab": {
          "base_uri": "https://localhost:8080/",
          "height": 487
        },
        "id": "__b5mBTh4oHG",
        "outputId": "e3ed1852-7a56-4823-8da3-77a9073777d6"
      },
      "outputs": [
        {
          "output_type": "display_data",
          "data": {
            "image/png": "[encoded data removed]",
            "text/plain": [
              "<Figure size 432x288 with 1 Axes>"
            ]
          },
          "metadata": {
            "needs_background": "light"
          }
        },
        {
          "output_type": "stream",
          "name": "stdout",
          "text": [
            "Enter the treshold values, TH_x and TH_y\n",
            "Enter the TH_x value:0\n",
            "Enter the TH_y value:0\n",
            "The classifier accuracy for the selected thresholds is: 0.50\n",
            "Enter the treshold values, TH_x and TH_y\n",
            "Enter the TH_x value:5\n",
            "Enter the TH_y value:5\n",
            "The classifier accuracy for the selected thresholds is: 0.50\n",
            "Enter the treshold values, TH_x and TH_y\n",
            "Enter the TH_x value:-5\n",
            "Enter the TH_y value:-5\n",
            "The classifier accuracy for the selected thresholds is: 0.50\n"
          ]
        }
      ],
      "source": [
        "import matplotlib.pyplot as plt\n",
        "import numpy as np\n",
        "from sklearn import datasets\n",
        "from sklearn.model_selection import train_test_split\n",
        "from sklearn.svm import SVC\n",
        "\n",
        "#C1 and C2 data samples\n",
        "c1 = np.array([[1, 1], [3, 2], [2, 3]])\n",
        "c2 = np.array([[1, 2], [2, 2], [2, 1]])\n",
        "\n",
        "#Plot data samples\n",
        "def plot(c1, c2):\n",
        "  plt.scatter(c1[:,0], c1[:,1])\n",
        "  plt.scatter(c2[:,0], c2[:,1], facecolor = 'r', marker = 's')\n",
        "  plt.xlabel('x: feature 1')\n",
        "  plt.ylabel('y: feature 2')\n",
        "  plt.axis([-1,5,-1,5])\n",
        "  plt.legend([\"Class 1\", \"Class 2\"])\n",
        "  plt.show()\n",
        "\n",
        "#Classification accuracy calculation\n",
        "def thresh_acc(TH_x, TH_y):\n",
        "  c1_test = list(np.logical_and(c1[:, 0] > TH_x, c1[:, 1] > TH_y))\n",
        "  c2_test = list(np.logical_or(c2[:, 0] <= TH_x, c2[:, 1] <= TH_y))\n",
        "  total = float(c1_test.count(True) + c2_test.count(True))\n",
        "  accuracy = total / 6.0\n",
        "  print('The classifier accuracy for the selected thresholds is: {:0.2f}'.format(accuracy))\n",
        "\n",
        "#Enter data plots into array\n",
        "c1 = np.array([[1, 1], [3, 2], [2, 3]])\n",
        "c2 = np.array([[1, 2], [2, 2], [2, 1]])\n",
        "plot(c1, c2)\n",
        "\n",
        "for x in range(3):\n",
        "  while(x in range(3)):\n",
        "    print('Enter the treshold values, TH_x and TH_y')\n",
        "    try:\n",
        "      TH_x = float(input('Enter the TH_x value:'))\n",
        "    except: \n",
        "      print('Must be a number. Try again!')\n",
        "      continue\n",
        "    try:\n",
        "      TH_y = float(input('Enter the TH_y value:'))\n",
        "    except:\n",
        "      print('Must be a number. Try again!')\n",
        "      continue\n",
        "    thresh_acc(TH_x, TH_y)\n",
        "    break"
      ]
    }
  ],
  "metadata": {
    "colab": {
      "provenance": [],
      "authorship_tag": "ABX9TyMeSPG/dMyYgb5iEY14MahL",
      "include_colab_link": true
    },
    "kernelspec": {
      "display_name": "Python 3",
      "name": "python3"
    },
    "language_info": {
      "name": "python"
    }
  },
  "nbformat": 4,
  "nbformat_minor": 0
}